{
  "nbformat": 4,
  "nbformat_minor": 0,
  "metadata": {
    "colab": {
      "provenance": [],
      "authorship_tag": "ABX9TyMVBAOhesJzEygP+bIRgFN+",
      "include_colab_link": true
    },
    "kernelspec": {
      "name": "python3",
      "display_name": "Python 3"
    },
    "language_info": {
      "name": "python"
    }
  },
  "cells": [
    {
      "cell_type": "markdown",
      "metadata": {
        "id": "view-in-github",
        "colab_type": "text"
      },
      "source": [
        "<a href=\"https://colab.research.google.com/github/Chris1Areiza/gcsproof/blob/main/Modelo_Cita_de_entrega.ipynb\" target=\"_parent\"><img src=\"https://colab.research.google.com/assets/colab-badge.svg\" alt=\"Open In Colab\"/></a>"
      ]
    },
    {
      "cell_type": "code",
      "source": [
        "'''\n",
        "import cx_Oracle\n",
        "import pandas as pd\n",
        "\n",
        "# Conexión a la base de datos\n",
        "conn = cx_Oracle.connect('usuario/contraseña@nombre_de_servidor:puerto/nombre_de_BD')\n",
        "\n",
        "# Consulta SQL para leer la tabla\n",
        "query = 'SELECT * FROM nombre_de_tabla'\n",
        "\n",
        "# Leer los datos en un DataFrame de pandas\n",
        "df = pd.read_sql(query, con=conn)\n",
        "\n",
        "# Cerrar la conexión\n",
        "conn.close()\n",
        "\n",
        "# Imprimir el DataFrame\n",
        "print(df.head())\n",
        "'''"
      ],
      "metadata": {
        "id": "EZSCt2D5SVAu"
      },
      "execution_count": null,
      "outputs": []
    },
    {
      "cell_type": "code",
      "execution_count": 1,
      "metadata": {
        "id": "cJDDl0PBzAGk"
      },
      "outputs": [],
      "source": [
        "import pandas as pd\n",
        "import numpy as np\n",
        "from scipy.stats import norm"
      ]
    },
    {
      "cell_type": "code",
      "source": [
        "from google.colab import files\n",
        "from google.colab import drive\n",
        "drive.mount('/content/drive')"
      ],
      "metadata": {
        "colab": {
          "base_uri": "https://localhost:8080/"
        },
        "id": "wz8IG52FzkJQ",
        "outputId": "dc3fa212-a480-400e-9159-f0d964ec6c8c"
      },
      "execution_count": 2,
      "outputs": [
        {
          "output_type": "stream",
          "name": "stdout",
          "text": [
            "Mounted at /content/drive\n"
          ]
        }
      ]
    },
    {
      "cell_type": "code",
      "source": [
        "# Leer el archivo con los datos\n",
        "df = pd.read_excel('drive/MyDrive/data_sample.xlsx', index_col = False)\n",
        "\n",
        "# Seleccionar las columnas necesarias\n",
        "df = df[[\"Proveedor\", \"Categoría\", \"Subcategoría\", \"Sublínea\", \"Días retraso\"]]\n",
        "\n",
        "# Calcular el rango intercuartil\n",
        "Q1 = df[\"Días retraso\"].quantile(0.25)\n",
        "Q3 = df[\"Días retraso\"].quantile(0.75)\n",
        "IQR = Q3 - Q1\n",
        "\n",
        "# Definir límites inferior y superior\n",
        "lim_inf = Q1 - 1.5 * IQR\n",
        "lim_sup = Q3 + 1.5 * IQR\n",
        "\n",
        "# Reemplazar valores atípicos inferiores por percentil 5 y superiores por percentil 95\n",
        "df.loc[df[\"Días retraso\"] < lim_inf, \"Días retraso\"] = df[\"Días retraso\"].quantile(0.05)\n",
        "df.loc[df[\"Días retraso\"] > lim_sup, \"Días retraso\"] = df[\"Días retraso\"].quantile(0.95)\n",
        "\n",
        "# Agrupar los datos por sublínea y calcular la media y desviación estándar\n",
        "df_grouped = df.groupby([\"Proveedor\", \"Categoría\", \"Subcategoría\", \"Sublínea\"]).agg({\"Días retraso\": [np.mean, np.std]}).reset_index()\n",
        "\n",
        "# Cambiar el nombre de las columnas\n",
        "df_grouped.columns = [\"Proveedor\", \"Categoría\", \"Subcategoría\", \"Sublínea\", \"Media\", \"Desviación\"]\n",
        "\n",
        "# Calcular la inversa de la normal para una probabilidad dada\n",
        "probabilidad = input()\n",
        "df_grouped[\"Lead Time\"] = norm.ppf(0.8, df_grouped[\"Media\"], df_grouped[\"Desviación\"]).round(decimals=0)\n",
        "\n",
        "# Reemplazar los valores NaN en la columna Inversa de la normal por el valor de la columna Media\n",
        "df_grouped[\"Lead Time\"] = df_grouped[\"Lead Time\"].fillna(df_grouped[\"Media\"])\n",
        "\n",
        "# Mostrar el resultado\n",
        "print(df_grouped)\n"
      ],
      "metadata": {
        "colab": {
          "base_uri": "https://localhost:8080/"
        },
        "id": "y-6zDvVy8Efp",
        "outputId": "86ccf0f2-3746-42f3-acad-8703223a46af"
      },
      "execution_count": 3,
      "outputs": [
        {
          "output_type": "stream",
          "name": "stdout",
          "text": [
            "0.8\n",
            "   Proveedor Categoría Subcategoría Sublínea      Media  Desviación  Lead Time\n",
            "0   ARTDECON        DO           AD      CHL   3.416667    3.315483        6.0\n",
            "1   ARTDECON        DO           DB       CB   0.545455    1.213560        2.0\n",
            "2   ARTDECON        DO           DB      CDB   5.090909    5.459017       10.0\n",
            "3   ARTDECON        DO           DB       NO  13.863636    5.548878       19.0\n",
            "4   ARTDECON        DO           DB       TO  11.928571    5.623552       17.0\n",
            "5   ARTDECON        DO           JU      CSB   1.857143    2.340126        4.0\n",
            "6   ARTDECON        DO           JU       DU   7.000000         NaN        7.0\n",
            "7   ARTDECON        SO           CM       BI  14.875000    6.664136       20.0\n",
            "8   ARTDECON        SO           CM    C4PTO  11.333333    5.859465       16.0\n",
            "9   ARTDECON        SO           CM    C6PTO  13.875000    7.900045       21.0\n",
            "10  ARTDECON        SO           CT      MRE  15.142857    3.625308       18.0\n",
            "11  ARTDECON        SO           CT       MS  14.500000    9.192388       22.0\n",
            "12  ARTDECON        SO           SA       MC  15.125000    7.642690       22.0\n",
            "13  ARTDECON        SO           SA       MQ  20.000000         NaN       20.0\n",
            "14  ARTDECON        SO           SA       S2  -2.500000    3.535534        0.0\n",
            "15  ARTDECON        SO           SA       S3   1.333333    7.094599        7.0\n",
            "16    CESMAR        ES           DS       SF   1.200000    2.683282        3.0\n",
            "17    CESMAR        SO           CM    C4PTO   1.488372    3.514406        4.0\n",
            "18    CESMAR        SO           CM    C6PTO   3.909091    5.209050        8.0\n",
            "19    CESMAR        SO           CT       MD   2.571429    2.572751        5.0\n",
            "20    CESMAR        SO           CT      SIB   2.000000         NaN        2.0\n",
            "21    CESMAR        SO           SA       BU   3.714286    5.313953        8.0\n",
            "22    CESMAR        SO           SA       MC   3.000000    7.937254       10.0\n",
            "23    CESMAR        SO           SA       MQ   3.000000         NaN        3.0\n",
            "24    CESMAR        SO           SA       PF   7.333333   12.701706       18.0\n",
            "25    CESMAR        SO           SA       S2   2.222222    3.192874        5.0\n",
            "26    CESMAR        SO           SA       S3   1.933333    2.865227        4.0\n",
            "27    CESMAR        SO           SA       SM   0.000000    0.000000        0.0\n",
            "28    CESMAR        SO           SA       SR   3.523810    5.221293        8.0\n",
            "29      JECO        ES           DS      RS2   9.500000    9.192388       17.0\n",
            "30      JECO        ES           DS      RS3   1.000000         NaN        1.0\n",
            "31      JECO        ES           DS       SB   8.500000   10.606602       17.0\n",
            "32      JECO        ES           DS       SF   6.000000    6.683313       12.0\n",
            "33      JECO        SO           SA       BU   6.666667    8.962886       14.0\n",
            "34      JECO        SO           SA       S2   4.666667    6.088240       10.0\n",
            "35      JECO        SO           SA       S3   1.250000    0.957427        2.0\n",
            "36      JECO        SO           SA       SM   7.285714    7.087884       13.0\n",
            "37      JECO        SO           SA       SR   3.125000    2.799872        5.0\n",
            "38    KAHUME        DO           AD      CHL   2.000000    2.828427        4.0\n",
            "39    KAHUME        DO           DB       AL   1.594595    2.842724        4.0\n",
            "40    KAHUME        DO           DB      CDB  -1.352941    2.473388        1.0\n",
            "41    KAHUME        DO           DB       NO   2.300000    5.012207        7.0\n",
            "42    KAHUME        DO           DB       TO   4.000000    8.017837       11.0\n",
            "43    KAHUME        DO           JU       AJ  -0.666667    0.577350       -0.0\n",
            "44    KAHUME        DO           JU      CSB   0.666667    0.577350        1.0\n"
          ]
        },
        {
          "output_type": "stream",
          "name": "stderr",
          "text": [
            "/usr/local/lib/python3.9/dist-packages/scipy/stats/_distn_infrastructure.py:2351: RuntimeWarning: invalid value encountered in multiply\n",
            "  lower_bound = _a * scale + loc\n",
            "/usr/local/lib/python3.9/dist-packages/scipy/stats/_distn_infrastructure.py:2352: RuntimeWarning: invalid value encountered in multiply\n",
            "  upper_bound = _b * scale + loc\n"
          ]
        }
      ]
    },
    {
      "cell_type": "code",
      "source": [
        "! git status\n"
      ],
      "metadata": {
        "colab": {
          "base_uri": "https://localhost:8080/"
        },
        "id": "qxlr-OLVAO7M",
        "outputId": "12810afc-e5b2-4887-e688-22599d785dac"
      },
      "execution_count": 4,
      "outputs": [
        {
          "output_type": "stream",
          "name": "stdout",
          "text": [
            "fatal: not a git repository (or any of the parent directories): .git\n"
          ]
        }
      ]
    }
  ]
}